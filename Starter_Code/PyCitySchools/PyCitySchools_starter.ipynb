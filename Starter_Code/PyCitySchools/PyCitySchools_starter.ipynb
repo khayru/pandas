{
 "cells": [
  {
   "cell_type": "markdown",
   "metadata": {},
   "source": [
    "# PyCity Schools Analysis\n",
    "\n",
    "* As a whole, schools with higher budgets, did not yield better test results. By contrast, schools with higher spending 645-675 per student actually underperformed compared to schools with smaller budgets (585 per student).\n",
    "\n",
    "* As a whole, smaller and medium sized schools dramatically out-performed large sized schools on passing math performances (89-91% passing vs 67%).\n",
    "\n",
    "* As a whole, charter schools out-performed the public district schools across all metrics. However, more analysis will be required to glean if the effect is due to school practices or the fact that charter schools tend to serve smaller student populations per school. \n",
    "---"
   ]
  },
  {
   "cell_type": "code",
   "execution_count": null,
   "metadata": {},
   "outputs": [],
   "source": [
    "# Dependencies and Setup\n",
    "import pandas as pd\n",
    "from pathlib import Path\n",
    "\n",
    "# File to Load (Remember to Change These)\n",
    "school_data_to_load = Path(\"Resources/schools_complete.csv\")\n",
    "student_data_to_load = Path(\"Resources/students_complete.csv\")\n",
    "\n",
    "# Read School and Student Data File and store into Pandas DataFrames\n",
    "school_data = pd.read_csv(school_data_to_load)\n",
    "student_data = pd.read_csv(student_data_to_load)\n",
    "\n",
    "# Combine the data into a single dataset.  \n",
    "school_data_complete = pd.merge(student_data, school_data, how=\"left\", on=[\"school_name\", \"school_name\"])\n",
    "school_data_complete.head()"
   ]
  },
  {
   "cell_type": "markdown",
   "metadata": {},
   "source": [
    "## District Summary"
   ]
  },
  {
   "cell_type": "code",
   "execution_count": null,
   "metadata": {},
   "outputs": [],
   "source": [
    "# Calculate the total number of unique schools\n",
    "school_count = len(school_data_complete[\"school_name\"].unique())\n",
    "school_count\n"
   ]
  },
  {
   "cell_type": "code",
   "execution_count": null,
   "metadata": {},
   "outputs": [],
   "source": [
    "# Calculate the total number of students\n",
    "student_count =  school_data_complete[\"Student ID\"].count()\n",
    "student_count\n"
   ]
  },
  {
   "cell_type": "code",
   "execution_count": null,
   "metadata": {},
   "outputs": [],
   "source": [
    "# Calculate the total budget\n",
    "total_budget= school_data_complete[\"budget\"].sum()\n",
    "total_budget"
   ]
  },
  {
   "cell_type": "code",
   "execution_count": null,
   "metadata": {},
   "outputs": [],
   "source": [
    "# Calculate the average (mean) math score\n",
    "average_math_score = school_data_complete[\"math_score\"].mean()\n",
    "average_math_score"
   ]
  },
  {
   "cell_type": "code",
   "execution_count": null,
   "metadata": {},
   "outputs": [],
   "source": [
    "# Calculate the average (mean) reading score\n",
    "average_reading_score =school_data_complete [\"reading_score\"].mean()\n",
    "average_reading_score"
   ]
  },
  {
   "cell_type": "code",
   "execution_count": null,
   "metadata": {},
   "outputs": [],
   "source": [
    "# Use the following to calculate the percentage of students who passed math (math scores greather than or equal to 70)\n",
    "passing_math_count = (school_data_complete)[(school_data_complete[\"math_score\"] >= 70)].count()[\"student_name\"]\n",
    "passing_math_percentage = (passing_math_count)/float(student_count)* 100\n",
    "passing_math_percentage "
   ]
  },
  {
   "cell_type": "code",
   "execution_count": null,
   "metadata": {},
   "outputs": [],
   "source": [
    "#Calculate the percentage of students who passeed reading (hint: look at how the math percentage was calculated)  \n",
    "passing_reading_count = (school_data_complete)[(school_data_complete[\"reading_score\"] >= 70)].count()[\"student_name\"]\n",
    "passing_reading_percentage = (passing_reading_count) / float(student_count)* 100\n",
    "passing_reading_percentage\n"
   ]
  },
  {
   "cell_type": "code",
   "execution_count": null,
   "metadata": {},
   "outputs": [],
   "source": [
    "#Use the following to calculate the percentage of students that passed math and reading\n",
    "passing_math_reading_count = school_data_complete[(school_data_complete[\"math_score\"] >= 70) & (school_data_complete[\"reading_score\"] >= 70)].count()[\"student_name\"]\n",
    "overall_passing_rate = passing_math_reading_count /float(student_count) * 100 \n",
    "overall_passing_rate"
   ]
  },
  {
   "cell_type": "code",
   "execution_count": null,
   "metadata": {},
   "outputs": [],
   "source": [
    "# Create a high-level snapshot of the district's key metrics in a DataFrame\n",
    "district_summary = pd.DataFrame({\n",
    "    \"Total School\":[school_count],\n",
    "    \"Total Students\":[student_count],\n",
    "    \"Total Budget\": [total_budget],\n",
    "    \"average math score\" :[average_math_score],\n",
    "    \"average reading score\":[average_reading_score],\n",
    "    \"% passing math\": [passing_math_count],\n",
    "    \"% passing reading\":[passing_reading_count],\n",
    "    \"% Overall Passing Rate\":[overall_passing_rate]\n",
    "\n",
    "})\n",
    "\n",
    "# Formatting\n",
    "\n",
    "district_summary[\"Total School\"] = district_summary[\"Total School\"].map(\"{:,}\".format)\n",
    "district_summary[\"Total Students\"] = district_summary[\"Total Students\"].map(\"{:,.2f}\".format)\n",
    "district_summary[\"Total Budget\"] = district_summary[\"Total Budget\"].map(\"${:,.2f}\".format)\n",
    "district_summary[\"average math score\"] = district_summary[\"average math score\"].map(\"{:,.2f}\".format)\n",
    "district_summary[\"average reading score\"] = district_summary[\"average reading score\"].map(\"{:,.2f}\".format)\n",
    "district_summary[\"% passing math\"] = district_summary[\"% passing math\"].map(\"{:,.2f}\".format)\n",
    "district_summary[\"% passing reading\"] = district_summary[\"% passing reading\"].map(\"{:,.2f}\".format)\n",
    "district_summary[\"% Overall Passing Rate\"] = district_summary[\"% Overall Passing Rate\"].map(\"{:,.2f}\".format)\n",
    "\n",
    "\n",
    "# Display the DataFrame\n",
    "district_summary"
   ]
  },
  {
   "cell_type": "markdown",
   "metadata": {},
   "source": [
    "## School Summary"
   ]
  },
  {
   "cell_type": "code",
   "execution_count": null,
   "metadata": {},
   "outputs": [],
   "source": [
    "# school type\n",
    "school_type = grouped_school['type'].first()\n",
    "school_type\n"
   ]
  },
  {
   "cell_type": "code",
   "execution_count": null,
   "metadata": {},
   "outputs": [],
   "source": [
    "# Calculate the total student count for each school\n",
    "grouped_school = school_data_complete.groupby(['school_name'])\n",
    "total_student_by_school = grouped_school.size()\n",
    "total_student_by_school\n"
   ]
  },
  {
   "cell_type": "code",
   "execution_count": null,
   "metadata": {},
   "outputs": [],
   "source": [
    "# Calculate the total school budget and per capita spending\n",
    "school_budget = grouped_school['budget'].first()\n",
    "school_budget\n"
   ]
  },
  {
   "cell_type": "code",
   "execution_count": null,
   "metadata": {},
   "outputs": [],
   "source": [
    "#per student total budet\n",
    "per_studet_budget =school_budget/total_student_by_school\n",
    "per_studet_budget"
   ]
  },
  {
   "cell_type": "code",
   "execution_count": null,
   "metadata": {},
   "outputs": [],
   "source": [
    "# Calculate the average test scores per_school_math\n",
    "per_school_math = school_data_complete.groupby([\"school_name\"]).mean()[\"math_score\"]\n",
    "per_school_math"
   ]
  },
  {
   "cell_type": "code",
   "execution_count": null,
   "metadata": {},
   "outputs": [],
   "source": [
    "# Calculate the average test scores per_school_reading\n",
    "per_school_reading = school_data_complete.groupby([\"school_name\"]).mean()[\"reading_score\"]\n",
    "per_school_reading"
   ]
  },
  {
   "cell_type": "code",
   "execution_count": null,
   "metadata": {},
   "outputs": [],
   "source": [
    "#  Calculate the number of schools with math scores of 70 or higher(%passing math )\n",
    "numbSchool_passing_math = school_data_complete[school_data_complete['math_score']>=70].groupby(['school_name']).size()\n",
    "percent_passing_math = (numbSchool_passing_math/student_count)*100\n",
    "percent_passing_math"
   ]
  },
  {
   "cell_type": "code",
   "execution_count": null,
   "metadata": {},
   "outputs": [],
   "source": [
    "# Calculate the number of schools with reading scores of 70 or higher(%passing reading)\n",
    "numbSchool_passing_reading = school_data_complete[school_data_complete['reading_score']>=70].groupby(['school_name']).size()\n",
    "percent_passing_reading = (numbSchool_passing_reading/student_count)*100\n",
    "percent_passing_reading"
   ]
  },
  {
   "cell_type": "code",
   "execution_count": null,
   "metadata": {},
   "outputs": [],
   "source": [
    "\n"
   ]
  },
  {
   "cell_type": "code",
   "execution_count": null,
   "metadata": {},
   "outputs": [],
   "source": [
    "# Use the provided code to calculate the passing rates\n",
    "numbSchool_passing_math = school_data_complete[school_data_complete['math_score']>=70].groupby(['school_name']).size()\n",
    "percent_passing_math = (numbSchool_passing_math/student_count)*100\n",
    "percent_passing_math"
   ]
  },
  {
   "cell_type": "code",
   "execution_count": null,
   "metadata": {},
   "outputs": [],
   "source": [
    "#Use the provided code to calculate the schools that passed both math and reading with scores of 70 or higher()(over all passing rate)\n",
    "\n",
    "overall_passing = (percent_passing_math + percent_passing_reading)/2\n",
    "overall_passing"
   ]
  },
  {
   "cell_type": "code",
   "execution_count": 154,
   "metadata": {},
   "outputs": [
    {
     "data": {
      "text/html": [
       "<div>\n",
       "<style scoped>\n",
       "    .dataframe tbody tr th:only-of-type {\n",
       "        vertical-align: middle;\n",
       "    }\n",
       "\n",
       "    .dataframe tbody tr th {\n",
       "        vertical-align: top;\n",
       "    }\n",
       "\n",
       "    .dataframe thead th {\n",
       "        text-align: right;\n",
       "    }\n",
       "</style>\n",
       "<table border=\"1\" class=\"dataframe\">\n",
       "  <thead>\n",
       "    <tr style=\"text-align: right;\">\n",
       "      <th></th>\n",
       "      <th>School Type</th>\n",
       "      <th>Total Students</th>\n",
       "      <th>Total School budget</th>\n",
       "      <th>Per Student Budget</th>\n",
       "      <th>Average Math Score</th>\n",
       "      <th>Average Reading Score</th>\n",
       "      <th>% Passing Math</th>\n",
       "      <th>% Passing Reading</th>\n",
       "      <th>%overall passing Rate</th>\n",
       "    </tr>\n",
       "    <tr>\n",
       "      <th>school_name</th>\n",
       "      <th></th>\n",
       "      <th></th>\n",
       "      <th></th>\n",
       "      <th></th>\n",
       "      <th></th>\n",
       "      <th></th>\n",
       "      <th></th>\n",
       "      <th></th>\n",
       "      <th></th>\n",
       "    </tr>\n",
       "  </thead>\n",
       "  <tbody>\n",
       "    <tr>\n",
       "      <th>Bailey High School</th>\n",
       "      <td>District</td>\n",
       "      <td>4976</td>\n",
       "      <td>3124928</td>\n",
       "      <td>628.0</td>\n",
       "      <td>77.048432</td>\n",
       "      <td>81.033963</td>\n",
       "      <td>3318</td>\n",
       "      <td>4077</td>\n",
       "      <td>9.439622</td>\n",
       "    </tr>\n",
       "    <tr>\n",
       "      <th>Cabrera High School</th>\n",
       "      <td>Charter</td>\n",
       "      <td>1858</td>\n",
       "      <td>1081356</td>\n",
       "      <td>582.0</td>\n",
       "      <td>83.061895</td>\n",
       "      <td>83.975780</td>\n",
       "      <td>1749</td>\n",
       "      <td>1803</td>\n",
       "      <td>4.534082</td>\n",
       "    </tr>\n",
       "    <tr>\n",
       "      <th>Figueroa High School</th>\n",
       "      <td>District</td>\n",
       "      <td>2949</td>\n",
       "      <td>1884411</td>\n",
       "      <td>639.0</td>\n",
       "      <td>76.711767</td>\n",
       "      <td>81.158020</td>\n",
       "      <td>1946</td>\n",
       "      <td>2381</td>\n",
       "      <td>5.523360</td>\n",
       "    </tr>\n",
       "    <tr>\n",
       "      <th>Ford High School</th>\n",
       "      <td>District</td>\n",
       "      <td>2739</td>\n",
       "      <td>1763916</td>\n",
       "      <td>644.0</td>\n",
       "      <td>77.102592</td>\n",
       "      <td>80.746258</td>\n",
       "      <td>1871</td>\n",
       "      <td>2172</td>\n",
       "      <td>5.160837</td>\n",
       "    </tr>\n",
       "    <tr>\n",
       "      <th>Griffin High School</th>\n",
       "      <td>Charter</td>\n",
       "      <td>1468</td>\n",
       "      <td>917500</td>\n",
       "      <td>625.0</td>\n",
       "      <td>83.351499</td>\n",
       "      <td>83.816757</td>\n",
       "      <td>1371</td>\n",
       "      <td>1426</td>\n",
       "      <td>3.570334</td>\n",
       "    </tr>\n",
       "    <tr>\n",
       "      <th>Hernandez High School</th>\n",
       "      <td>District</td>\n",
       "      <td>4635</td>\n",
       "      <td>3022020</td>\n",
       "      <td>652.0</td>\n",
       "      <td>77.289752</td>\n",
       "      <td>80.934412</td>\n",
       "      <td>3094</td>\n",
       "      <td>3748</td>\n",
       "      <td>8.733725</td>\n",
       "    </tr>\n",
       "    <tr>\n",
       "      <th>Holden High School</th>\n",
       "      <td>Charter</td>\n",
       "      <td>427</td>\n",
       "      <td>248087</td>\n",
       "      <td>581.0</td>\n",
       "      <td>83.803279</td>\n",
       "      <td>83.814988</td>\n",
       "      <td>395</td>\n",
       "      <td>411</td>\n",
       "      <td>1.028849</td>\n",
       "    </tr>\n",
       "    <tr>\n",
       "      <th>Huang High School</th>\n",
       "      <td>District</td>\n",
       "      <td>2917</td>\n",
       "      <td>1910635</td>\n",
       "      <td>655.0</td>\n",
       "      <td>76.629414</td>\n",
       "      <td>81.182722</td>\n",
       "      <td>1916</td>\n",
       "      <td>2372</td>\n",
       "      <td>5.473577</td>\n",
       "    </tr>\n",
       "    <tr>\n",
       "      <th>Johnson High School</th>\n",
       "      <td>District</td>\n",
       "      <td>4761</td>\n",
       "      <td>3094650</td>\n",
       "      <td>650.0</td>\n",
       "      <td>77.072464</td>\n",
       "      <td>80.966394</td>\n",
       "      <td>3145</td>\n",
       "      <td>3867</td>\n",
       "      <td>8.950728</td>\n",
       "    </tr>\n",
       "    <tr>\n",
       "      <th>Pena High School</th>\n",
       "      <td>Charter</td>\n",
       "      <td>962</td>\n",
       "      <td>585858</td>\n",
       "      <td>609.0</td>\n",
       "      <td>83.839917</td>\n",
       "      <td>84.044699</td>\n",
       "      <td>910</td>\n",
       "      <td>923</td>\n",
       "      <td>2.339801</td>\n",
       "    </tr>\n",
       "    <tr>\n",
       "      <th>Rodriguez High School</th>\n",
       "      <td>District</td>\n",
       "      <td>3999</td>\n",
       "      <td>2547363</td>\n",
       "      <td>637.0</td>\n",
       "      <td>76.842711</td>\n",
       "      <td>80.744686</td>\n",
       "      <td>2654</td>\n",
       "      <td>3208</td>\n",
       "      <td>7.482767</td>\n",
       "    </tr>\n",
       "    <tr>\n",
       "      <th>Shelton High School</th>\n",
       "      <td>Charter</td>\n",
       "      <td>1761</td>\n",
       "      <td>1056600</td>\n",
       "      <td>600.0</td>\n",
       "      <td>83.359455</td>\n",
       "      <td>83.725724</td>\n",
       "      <td>1653</td>\n",
       "      <td>1688</td>\n",
       "      <td>4.264743</td>\n",
       "    </tr>\n",
       "    <tr>\n",
       "      <th>Thomas High School</th>\n",
       "      <td>Charter</td>\n",
       "      <td>1635</td>\n",
       "      <td>1043130</td>\n",
       "      <td>638.0</td>\n",
       "      <td>83.418349</td>\n",
       "      <td>83.848930</td>\n",
       "      <td>1525</td>\n",
       "      <td>1591</td>\n",
       "      <td>3.977534</td>\n",
       "    </tr>\n",
       "    <tr>\n",
       "      <th>Wilson High School</th>\n",
       "      <td>Charter</td>\n",
       "      <td>2283</td>\n",
       "      <td>1319574</td>\n",
       "      <td>578.0</td>\n",
       "      <td>83.274201</td>\n",
       "      <td>83.989488</td>\n",
       "      <td>2143</td>\n",
       "      <td>2204</td>\n",
       "      <td>5.548889</td>\n",
       "    </tr>\n",
       "    <tr>\n",
       "      <th>Wright High School</th>\n",
       "      <td>Charter</td>\n",
       "      <td>1800</td>\n",
       "      <td>1049400</td>\n",
       "      <td>583.0</td>\n",
       "      <td>83.682222</td>\n",
       "      <td>83.955000</td>\n",
       "      <td>1680</td>\n",
       "      <td>1739</td>\n",
       "      <td>4.364309</td>\n",
       "    </tr>\n",
       "  </tbody>\n",
       "</table>\n",
       "</div>"
      ],
      "text/plain": [
       "                      School Type  Total Students  Total School budget  \\\n",
       "school_name                                                              \n",
       "Bailey High School       District            4976              3124928   \n",
       "Cabrera High School       Charter            1858              1081356   \n",
       "Figueroa High School     District            2949              1884411   \n",
       "Ford High School         District            2739              1763916   \n",
       "Griffin High School       Charter            1468               917500   \n",
       "Hernandez High School    District            4635              3022020   \n",
       "Holden High School        Charter             427               248087   \n",
       "Huang High School        District            2917              1910635   \n",
       "Johnson High School      District            4761              3094650   \n",
       "Pena High School          Charter             962               585858   \n",
       "Rodriguez High School    District            3999              2547363   \n",
       "Shelton High School       Charter            1761              1056600   \n",
       "Thomas High School        Charter            1635              1043130   \n",
       "Wilson High School        Charter            2283              1319574   \n",
       "Wright High School        Charter            1800              1049400   \n",
       "\n",
       "                       Per Student Budget  Average Math Score  \\\n",
       "school_name                                                     \n",
       "Bailey High School                  628.0           77.048432   \n",
       "Cabrera High School                 582.0           83.061895   \n",
       "Figueroa High School                639.0           76.711767   \n",
       "Ford High School                    644.0           77.102592   \n",
       "Griffin High School                 625.0           83.351499   \n",
       "Hernandez High School               652.0           77.289752   \n",
       "Holden High School                  581.0           83.803279   \n",
       "Huang High School                   655.0           76.629414   \n",
       "Johnson High School                 650.0           77.072464   \n",
       "Pena High School                    609.0           83.839917   \n",
       "Rodriguez High School               637.0           76.842711   \n",
       "Shelton High School                 600.0           83.359455   \n",
       "Thomas High School                  638.0           83.418349   \n",
       "Wilson High School                  578.0           83.274201   \n",
       "Wright High School                  583.0           83.682222   \n",
       "\n",
       "                       Average Reading Score  % Passing Math  \\\n",
       "school_name                                                    \n",
       "Bailey High School                 81.033963            3318   \n",
       "Cabrera High School                83.975780            1749   \n",
       "Figueroa High School               81.158020            1946   \n",
       "Ford High School                   80.746258            1871   \n",
       "Griffin High School                83.816757            1371   \n",
       "Hernandez High School              80.934412            3094   \n",
       "Holden High School                 83.814988             395   \n",
       "Huang High School                  81.182722            1916   \n",
       "Johnson High School                80.966394            3145   \n",
       "Pena High School                   84.044699             910   \n",
       "Rodriguez High School              80.744686            2654   \n",
       "Shelton High School                83.725724            1653   \n",
       "Thomas High School                 83.848930            1525   \n",
       "Wilson High School                 83.989488            2143   \n",
       "Wright High School                 83.955000            1680   \n",
       "\n",
       "                       % Passing Reading  %overall passing Rate  \n",
       "school_name                                                      \n",
       "Bailey High School                  4077               9.439622  \n",
       "Cabrera High School                 1803               4.534082  \n",
       "Figueroa High School                2381               5.523360  \n",
       "Ford High School                    2172               5.160837  \n",
       "Griffin High School                 1426               3.570334  \n",
       "Hernandez High School               3748               8.733725  \n",
       "Holden High School                   411               1.028849  \n",
       "Huang High School                   2372               5.473577  \n",
       "Johnson High School                 3867               8.950728  \n",
       "Pena High School                     923               2.339801  \n",
       "Rodriguez High School               3208               7.482767  \n",
       "Shelton High School                 1688               4.264743  \n",
       "Thomas High School                  1591               3.977534  \n",
       "Wilson High School                  2204               5.548889  \n",
       "Wright High School                  1739               4.364309  "
      ]
     },
     "execution_count": 154,
     "metadata": {},
     "output_type": "execute_result"
    }
   ],
   "source": [
    "# Create a DataFrame called `per_school_summary` with columns for the calculations above.\n",
    "school_summary = {\n",
    "    'School Type': school_type,\n",
    "    'Total Students':total_student_by_school,\n",
    "    'Total School budget':school_budget ,\n",
    "    'Per Student Budget':per_studet_budget,\n",
    "    'Average Math Score': per_school_math,\n",
    "    'Average Reading Score': per_school_reading,\n",
    "    '% Passing Math': numbSchool_passing_math,\n",
    "    '% Passing Reading': numbSchool_passing_reading,\n",
    "    '%overall passing Rate':overall_passing\n",
    "    }\n",
    "\n",
    "per_school_summary = pd.DataFrame(school_summary)\n",
    "\n",
    "# per_school_summary[\"Total School budget\"] = per_school_summary[\"Total School Budget\"].map(\"${:,.2f}\".format)\n",
    "# per_school_summary[\"Per Student Budget\"] = per_school_summary[\"Per Student Budget\"].map(\"${:,.2f}\".format)\n",
    "per_school_summary"
   ]
  },
  {
   "cell_type": "markdown",
   "metadata": {},
   "source": [
    "## Highest-Performing Schools (by % Overall Passing)"
   ]
  },
  {
   "cell_type": "code",
   "execution_count": null,
   "metadata": {
    "scrolled": true
   },
   "outputs": [],
   "source": [
    "# Sort the schools by `% Overall Passing` in descending order and display the top 5 rows.\n",
    "\n",
    "High_perform_school = pd.DataFrame({\n",
    "    'School Type': school_type,\n",
    "    'Total Students':total_student_by_school,\n",
    "    '%overall passing Rate':overall_passing.head()})\n",
    "High_perform_school.head(5)\n"
   ]
  },
  {
   "cell_type": "markdown",
   "metadata": {},
   "source": [
    "## Bottom Performing Schools (By % Overall Passing)"
   ]
  },
  {
   "cell_type": "code",
   "execution_count": null,
   "metadata": {},
   "outputs": [],
   "source": [
    "# Sort the schools by `% Overall Passing` in ascending order and display the top 5 rows.\n",
    "# = bottom_schools.head(5)\n",
    "low_perform_school = pd.DataFrame({\n",
    "    'School Type': school_type,\n",
    "    'Total Students':total_student_by_school,\n",
    "    '%overall passing Rate':overall_passing\n",
    "})\n",
    "low_perform_school.tail()\n"
   ]
  },
  {
   "cell_type": "markdown",
   "metadata": {},
   "source": [
    "## Math Scores by Grade"
   ]
  },
  {
   "cell_type": "code",
   "execution_count": null,
   "metadata": {},
   "outputs": [],
   "source": [
    "# # ############# orignal create dataFrame \n",
    "# # Use the code provided to separate the data by grade\n",
    "# ninth_graders = school_data_complete[(school_data_complete[\"grade\"] == \"9th\")]\n",
    "# tenth_graders = school_data_complete[(school_data_complete[\"grade\"] == \"10th\")]\n",
    "# eleventh_graders = school_data_complete[(school_data_complete[\"grade\"] == \"11th\")]\n",
    "# twelfth_graders = school_data_complete[(school_data_complete[\"grade\"] == \"12th\")]\n",
    "\n",
    "# # Group by \"school_name\" and take the mean of each.\n",
    "# ninth_graders_scores = \n",
    "# tenth_graders_scores = \n",
    "# eleventh_graders_scores = \n",
    "# twelfth_graders_scores = \n",
    "\n",
    "# # Use the code to select only the `math_score`.\n",
    "# ninth_grade_math_scores = ninth_graders_scores[\"math_score\"]\n",
    "# tenth_grader_math_scores = tenth_graders_scores[\"math_score\"]\n",
    "# eleventh_grader_math_scores = eleventh_graders_scores[\"math_score\"]\n",
    "# twelfth_grader_math_scores = twelfth_graders_scores[\"math_score\"]\n",
    "\n",
    "# # Combine each of the scores above into single DataFrame called `math_scores_by_grade`\n",
    "# math_scores_by_grade = \n",
    "\n",
    "# # Minor data wrangling\n",
    "# math_scores_by_grade.index.name = None\n",
    "\n",
    "# # Display the DataFrame\n",
    "# math_scores_by_grade\n"
   ]
  },
  {
   "cell_type": "code",
   "execution_count": null,
   "metadata": {},
   "outputs": [],
   "source": [
    "# Use the code provided to separate the data by grade\n",
    "ninth_graders = school_data_complete[(school_data_complete[\"grade\"] == \"9th\")]\n",
    "tenth_graders = school_data_complete[(school_data_complete[\"grade\"] == \"10th\")]\n",
    "eleventh_graders = school_data_complete[(school_data_complete[\"grade\"] == \"11th\")]\n",
    "twelfth_graders = school_data_complete[(school_data_complete[\"grade\"] == \"12th\")]\n",
    "\n",
    "# Group by \"school_name\" and take the mean of each.\n",
    "nineth_grouped = ninth_graders.groupby(['school_name'])\n",
    "tenth_grouped = tenth_graders.groupby(['school_name'])\n",
    "eleventh_grouped = eleventh_graders.groupby(['school_name'])\n",
    "twelveth_grouped = twelfth_graders.groupby(['school_name'])\n",
    "\n",
    "# Use the code to select only the `math_score`.\n",
    "# #Average Math Scores by Grade\n",
    "math_nineth_mean = nineth_grouped['math_score'].mean()\n",
    "math_tenth_mean = tenth_grouped['math_score'].mean()\n",
    "math_eleventh_mean = eleventh_grouped['math_score'].mean()\n",
    "math_twelveth_mean = twelveth_grouped['math_score'].mean()\n",
    "\n",
    "# # Creating dictionary holding the results \n",
    "\n",
    "math_scores_by_grade  = pd.DataFrame({\n",
    "    '9th': math_nineth_mean,\n",
    "    '10th': math_tenth_mean,\n",
    "    '11th': math_eleventh_mean,\n",
    "    '12th': math_twelveth_mean\n",
    "})\n",
    "\n",
    "# Combine each of the scores above into single DataFrame called `math_scores_by_grade`\n",
    "math_scores_by_grade = math_scores_by_grade[['9th', '10th', '11th', '12th']]\n",
    "math_scores_by_grade.index.name = \"School Name\"\n",
    "math_scores_by_grade\n"
   ]
  },
  {
   "cell_type": "markdown",
   "metadata": {},
   "source": [
    "## Reading Score by Grade "
   ]
  },
  {
   "cell_type": "code",
   "execution_count": null,
   "metadata": {},
   "outputs": [],
   "source": [
    "# Use the code provided to separate the data by grade\n",
    "ninth_graders = school_data_complete[(school_data_complete[\"grade\"] == \"9th\")]\n",
    "tenth_graders = school_data_complete[(school_data_complete[\"grade\"] == \"10th\")]\n",
    "eleventh_graders = school_data_complete[(school_data_complete[\"grade\"] == \"11th\")]\n",
    "twelfth_graders = school_data_complete[(school_data_complete[\"grade\"] == \"12th\")]\n",
    "\n",
    "# Group by \"school_name\" and take the mean of each.\n",
    "ninth_graders_scores = ninth_graders.groupby(['school_name'])\n",
    "tenth_graders_scores = tenth_graders.groupby(['school_name'])\n",
    "eleventh_graders_scores = eleventh_graders.groupby(['school_name'])\n",
    "twelfth_graders_scores = twelfth_graders.groupby(['school_name'])\n",
    "\n",
    "# Use the code to select only the `reading_score`.\n",
    " #Average Math Scores by Grade\n",
    "ninth_grade_reading_scores = ninth_graders_scores[\"reading_score\"].mean()\n",
    "tenth_grader_reading_scores = tenth_graders_scores[\"reading_score\"].mean()\n",
    "eleventh_grader_reading_scores = eleventh_graders_scores[\"reading_score\"].mean()\n",
    "twelfth_grader_reading_scores = twelfth_graders_scores[\"reading_score\"].mean()\n",
    "\n",
    "# Combine each of the scores above into single DataFrame called `reading_scores_by_grade`\n",
    "reading_scores_by_grade  = pd.DataFrame({\n",
    "    '9th': ninth_grade_reading_scores,\n",
    "    '10th':tenth_grader_reading_scores,\n",
    "    '11th': eleventh_grader_reading_scores,\n",
    "    '12th': twelfth_grader_reading_scores\n",
    "})\n",
    "\n",
    "# Minor data wrangling\n",
    "reading_scores_by_grade = reading_scores_by_grade[[\"9th\", \"10th\", \"11th\", \"12th\"]]\n",
    "reading_scores_by_grade.index.name = None\n",
    "\n",
    "# Display the DataFrame\n",
    "reading_scores_by_grade"
   ]
  },
  {
   "cell_type": "markdown",
   "metadata": {},
   "source": [
    "## Scores by School Spending"
   ]
  },
  {
   "cell_type": "code",
   "execution_count": null,
   "metadata": {},
   "outputs": [],
   "source": [
    "# Establish the bins \n",
    "spending_bins = [0, 585, 630, 645, 680]\n",
    "labels = [\"<$585\", \"$585-630\", \"$630-645\", \"$645-680\"]"
   ]
  },
  {
   "cell_type": "code",
   "execution_count": null,
   "metadata": {},
   "outputs": [],
   "source": [
    "# Create a copy of the school summary since it has the \"Per Student Budget\" \n",
    "school_spending_df = per_school_summary.copy()"
   ]
  },
  {
   "cell_type": "code",
   "execution_count": null,
   "metadata": {},
   "outputs": [],
   "source": [
    "# Use `pd.cut` to categorize spending based on the bins.\n",
    "school_spending_df[\"Spending Ranges (Per Student)\"] =  pd.cut(school_spending_df[\"Per Student Budget\"],spending_bins,labels=labels)\n",
    "\n",
    "school_spending_df"
   ]
  },
  {
   "cell_type": "code",
   "execution_count": null,
   "metadata": {},
   "outputs": [],
   "source": [
    "#  Calculate averages for the desired columns. \n",
    "spending_math_scores = school_spending_df.groupby([\"Spending Ranges (Per Student)\"]).mean()[\"Average Math Score\"]\n",
    "spending_reading_scores = school_spending_df.groupby([\"Spending Ranges (Per Student)\"]).mean()[\"Average Reading Score\"]\n",
    "spending_passing_math = school_spending_df.groupby([\"Spending Ranges (Per Student)\"]).mean()[\"% Passing Math\"]\n",
    "spending_passing_reading = school_spending_df.groupby([\"Spending Ranges (Per Student)\"]).mean()[\"% Passing Reading\"]\n",
    "#overall_passing_spending = school_spending_df.groupby([\"Spending Ranges (Per Student)\"]).mean()[\"% Overall Passing\"]\n",
    "overall =(spending_passing_math + spending_passing_reading)/2\n"
   ]
  },
  {
   "cell_type": "code",
   "execution_count": null,
   "metadata": {},
   "outputs": [],
   "source": [
    "# Assemble into DataFrame\n",
    "spending_summary = pd.DataFrame({\n",
    "            'Average Math Score': spending_math_scores,\n",
    "            'average_reading_score': spending_reading_scores,\n",
    "            '% Passing Math': spending_passing_math,\n",
    "            '% passing Reading': spending_passing_reading,\n",
    "            '%overall passing Rate': overall\n",
    "    \n",
    "})\n",
    "\n",
    "# Display results\n",
    "spending_summary"
   ]
  },
  {
   "cell_type": "markdown",
   "metadata": {},
   "source": [
    "## Scores by School Size"
   ]
  },
  {
   "cell_type": "code",
   "execution_count": null,
   "metadata": {},
   "outputs": [],
   "source": [
    "# Establish the bins.\n",
    "size_bins = [0, 1000, 2000, 5000]\n",
    "labels = [\"Small (<1000)\", \"Medium (1000-2000)\", \"Large (2000-5000)\"]\n",
    "\n"
   ]
  },
  {
   "cell_type": "code",
   "execution_count": null,
   "metadata": {},
   "outputs": [],
   "source": [
    "# Categorize the spending based on the bins\n",
    "# Use `pd.cut` on the \"Total Students\" column of the `per_school_summary` DataFrame.\n",
    "\n",
    "per_school_summary[\"School Size\"] = pd.cut(per_school_summary['Total Students'],size_bins, labels= labels)\n",
    "per_school_summary"
   ]
  },
  {
   "cell_type": "code",
   "execution_count": 142,
   "metadata": {},
   "outputs": [],
   "source": [
    "# Calculate averages for the desired columns. \n",
    "size_math_scores = per_school_summary.groupby([\"School Size\"]).mean()[\"Average Math Score\"]\n",
    "size_reading_scores = per_school_summary.groupby([\"School Size\"]).mean()[\"Average Reading Score\"]\n",
    "size_passing_math = per_school_summary.groupby([\"School Size\"]).mean()[\"% Passing Math\"]\n",
    "size_passing_reading = per_school_summary.groupby([\"School Size\"]).mean()[\"% Passing Reading\"]\n",
    "#size_overall_passing = per_school_summary.groupby([\"School Size\"]).mean()[\"% Overall Passing\"]\n",
    "overall =(spending_passing_math + spending_passing_reading)/2"
   ]
  },
  {
   "cell_type": "code",
   "execution_count": 145,
   "metadata": {
    "scrolled": true
   },
   "outputs": [
    {
     "data": {
      "text/html": [
       "<div>\n",
       "<style scoped>\n",
       "    .dataframe tbody tr th:only-of-type {\n",
       "        vertical-align: middle;\n",
       "    }\n",
       "\n",
       "    .dataframe tbody tr th {\n",
       "        vertical-align: top;\n",
       "    }\n",
       "\n",
       "    .dataframe thead th {\n",
       "        text-align: right;\n",
       "    }\n",
       "</style>\n",
       "<table border=\"1\" class=\"dataframe\">\n",
       "  <thead>\n",
       "    <tr style=\"text-align: right;\">\n",
       "      <th></th>\n",
       "      <th>Average Math Score</th>\n",
       "      <th>average_reading_score</th>\n",
       "      <th>% Passing Math</th>\n",
       "      <th>% passing Reading</th>\n",
       "      <th>%overall passing Rate</th>\n",
       "    </tr>\n",
       "  </thead>\n",
       "  <tbody>\n",
       "    <tr>\n",
       "      <th>$585-630</th>\n",
       "      <td>NaN</td>\n",
       "      <td>NaN</td>\n",
       "      <td>NaN</td>\n",
       "      <td>NaN</td>\n",
       "      <td>1920.750000</td>\n",
       "    </tr>\n",
       "    <tr>\n",
       "      <th>$630-645</th>\n",
       "      <td>NaN</td>\n",
       "      <td>NaN</td>\n",
       "      <td>NaN</td>\n",
       "      <td>NaN</td>\n",
       "      <td>2168.500000</td>\n",
       "    </tr>\n",
       "    <tr>\n",
       "      <th>$645-680</th>\n",
       "      <td>NaN</td>\n",
       "      <td>NaN</td>\n",
       "      <td>NaN</td>\n",
       "      <td>NaN</td>\n",
       "      <td>3023.666667</td>\n",
       "    </tr>\n",
       "    <tr>\n",
       "      <th>&lt;$585</th>\n",
       "      <td>NaN</td>\n",
       "      <td>NaN</td>\n",
       "      <td>NaN</td>\n",
       "      <td>NaN</td>\n",
       "      <td>1515.500000</td>\n",
       "    </tr>\n",
       "    <tr>\n",
       "      <th>Large (2000-5000)</th>\n",
       "      <td>77.746417</td>\n",
       "      <td>81.344493</td>\n",
       "      <td>2510.875</td>\n",
       "      <td>3003.625</td>\n",
       "      <td>NaN</td>\n",
       "    </tr>\n",
       "    <tr>\n",
       "      <th>Medium (1000-2000)</th>\n",
       "      <td>83.374684</td>\n",
       "      <td>83.864438</td>\n",
       "      <td>1595.600</td>\n",
       "      <td>1649.400</td>\n",
       "      <td>NaN</td>\n",
       "    </tr>\n",
       "    <tr>\n",
       "      <th>Small (&lt;1000)</th>\n",
       "      <td>83.821598</td>\n",
       "      <td>83.929843</td>\n",
       "      <td>652.500</td>\n",
       "      <td>667.000</td>\n",
       "      <td>NaN</td>\n",
       "    </tr>\n",
       "  </tbody>\n",
       "</table>\n",
       "</div>"
      ],
      "text/plain": [
       "                    Average Math Score  average_reading_score  % Passing Math  \\\n",
       "$585-630                           NaN                    NaN             NaN   \n",
       "$630-645                           NaN                    NaN             NaN   \n",
       "$645-680                           NaN                    NaN             NaN   \n",
       "<$585                              NaN                    NaN             NaN   \n",
       "Large (2000-5000)            77.746417              81.344493        2510.875   \n",
       "Medium (1000-2000)           83.374684              83.864438        1595.600   \n",
       "Small (<1000)                83.821598              83.929843         652.500   \n",
       "\n",
       "                    % passing Reading  %overall passing Rate  \n",
       "$585-630                          NaN            1920.750000  \n",
       "$630-645                          NaN            2168.500000  \n",
       "$645-680                          NaN            3023.666667  \n",
       "<$585                             NaN            1515.500000  \n",
       "Large (2000-5000)            3003.625                    NaN  \n",
       "Medium (1000-2000)           1649.400                    NaN  \n",
       "Small (<1000)                 667.000                    NaN  "
      ]
     },
     "execution_count": 145,
     "metadata": {},
     "output_type": "execute_result"
    }
   ],
   "source": [
    "# Create a DataFrame called `size_summary` that breaks down school performance based on school size (small, medium, or large).\n",
    "# Use the scores above to create a new DataFrame called `size_summary`\n",
    "size_summary = pd.DataFrame({\n",
    "            'Average Math Score': size_math_scores,\n",
    "            'average_reading_score':size_reading_scores,\n",
    "            '% Passing Math': size_passing_math,\n",
    "            '% passing Reading': size_passing_reading,\n",
    "            '%overall passing Rate': overall\n",
    "\n",
    "})\n",
    "# Display results\n",
    "size_summary"
   ]
  },
  {
   "cell_type": "markdown",
   "metadata": {},
   "source": [
    "## Scores by School Type"
   ]
  },
  {
   "cell_type": "code",
   "execution_count": 174,
   "metadata": {},
   "outputs": [
    {
     "data": {
      "text/plain": [
       "<pandas.core.groupby.generic.DataFrameGroupBy object at 0x0000020827A34F88>"
      ]
     },
     "execution_count": 174,
     "metadata": {},
     "output_type": "execute_result"
    }
   ],
   "source": [
    "# Group the per_school_summary DataFrame by \"School Type\" and average the results.\n",
    "group_type= per_school_summary.groupby('School Type')\n",
    "group_type\n"
   ]
  },
  {
   "cell_type": "code",
   "execution_count": 175,
   "metadata": {},
   "outputs": [],
   "source": [
    "# Group the per_school_summary DataFrame by \"School Type\" and average the results.\n",
    "type_math_scores = per_school_summary.groupby('School Type')\n",
    "type_reading_scores = per_school_summary.groupby('School Type')\n",
    "type_passing_math = per_school_summary.groupby('School Type')\n",
    "type_passing_reading = per_school_summary.groupby('School Type')\n",
    "#type_overall_passing = per_school_summary.groupby('school_Type').mean()[\"Average Math Score\"]\n",
    "overall =(spending_passing_math + spending_passing_reading)/2"
   ]
  },
  {
   "cell_type": "code",
   "execution_count": 183,
   "metadata": {},
   "outputs": [],
   "source": [
    "\n",
    "# Use the code provided to select new column data\n",
    "average_math_score_by_type = group_type[\"Average Math Score\"].mean()\n",
    "average_reading_score_by_type = group_type[\"Average Reading Score\"].mean()\n",
    "average_percent_passing_math_by_type =group_type[\"% Passing Math\"].mean()\n",
    "average_percent_passing_reading_by_type = group_type[\"% Passing Reading\"].mean()\n",
    "#average_percent_overall_passing_by_type = group_type[\"% Overall Passing\"].mean()\n",
    "overall =(spending_passing_math + spending_passing_reading)/2"
   ]
  },
  {
   "cell_type": "code",
   "execution_count": 184,
   "metadata": {},
   "outputs": [
    {
     "data": {
      "text/html": [
       "<div>\n",
       "<style scoped>\n",
       "    .dataframe tbody tr th:only-of-type {\n",
       "        vertical-align: middle;\n",
       "    }\n",
       "\n",
       "    .dataframe tbody tr th {\n",
       "        vertical-align: top;\n",
       "    }\n",
       "\n",
       "    .dataframe thead th {\n",
       "        text-align: right;\n",
       "    }\n",
       "</style>\n",
       "<table border=\"1\" class=\"dataframe\">\n",
       "  <thead>\n",
       "    <tr style=\"text-align: right;\">\n",
       "      <th></th>\n",
       "      <th>Average Math Score</th>\n",
       "      <th>average_reading_score</th>\n",
       "      <th>% Passing Math</th>\n",
       "      <th>% passing Reading</th>\n",
       "      <th>%overall passing Rate</th>\n",
       "    </tr>\n",
       "  </thead>\n",
       "  <tbody>\n",
       "    <tr>\n",
       "      <th>$585-630</th>\n",
       "      <td>NaN</td>\n",
       "      <td>NaN</td>\n",
       "      <td>NaN</td>\n",
       "      <td>NaN</td>\n",
       "      <td>1920.750000</td>\n",
       "    </tr>\n",
       "    <tr>\n",
       "      <th>$630-645</th>\n",
       "      <td>NaN</td>\n",
       "      <td>NaN</td>\n",
       "      <td>NaN</td>\n",
       "      <td>NaN</td>\n",
       "      <td>2168.500000</td>\n",
       "    </tr>\n",
       "    <tr>\n",
       "      <th>$645-680</th>\n",
       "      <td>NaN</td>\n",
       "      <td>NaN</td>\n",
       "      <td>NaN</td>\n",
       "      <td>NaN</td>\n",
       "      <td>3023.666667</td>\n",
       "    </tr>\n",
       "    <tr>\n",
       "      <th>&lt;$585</th>\n",
       "      <td>NaN</td>\n",
       "      <td>NaN</td>\n",
       "      <td>NaN</td>\n",
       "      <td>NaN</td>\n",
       "      <td>1515.500000</td>\n",
       "    </tr>\n",
       "    <tr>\n",
       "      <th>Charter</th>\n",
       "      <td>83.473852</td>\n",
       "      <td>83.896421</td>\n",
       "      <td>1428.250000</td>\n",
       "      <td>1473.125000</td>\n",
       "      <td>NaN</td>\n",
       "    </tr>\n",
       "    <tr>\n",
       "      <th>District</th>\n",
       "      <td>76.956733</td>\n",
       "      <td>80.966636</td>\n",
       "      <td>2563.428571</td>\n",
       "      <td>3117.857143</td>\n",
       "      <td>NaN</td>\n",
       "    </tr>\n",
       "  </tbody>\n",
       "</table>\n",
       "</div>"
      ],
      "text/plain": [
       "          Average Math Score  average_reading_score  % Passing Math  \\\n",
       "$585-630                 NaN                    NaN             NaN   \n",
       "$630-645                 NaN                    NaN             NaN   \n",
       "$645-680                 NaN                    NaN             NaN   \n",
       "<$585                    NaN                    NaN             NaN   \n",
       "Charter            83.473852              83.896421     1428.250000   \n",
       "District           76.956733              80.966636     2563.428571   \n",
       "\n",
       "          % passing Reading  %overall passing Rate  \n",
       "$585-630                NaN            1920.750000  \n",
       "$630-645                NaN            2168.500000  \n",
       "$645-680                NaN            3023.666667  \n",
       "<$585                   NaN            1515.500000  \n",
       "Charter         1473.125000                    NaN  \n",
       "District        3117.857143                    NaN  "
      ]
     },
     "execution_count": 184,
     "metadata": {},
     "output_type": "execute_result"
    }
   ],
   "source": [
    "# Assemble the new data by type into a DataFrame called `type_summary`\n",
    "type_summary = pd.DataFrame({\n",
    "        'Average Math Score': average_math_score_by_type,\n",
    "        'average_reading_score':average_reading_score_by_type,\n",
    "        '% Passing Math': average_percent_passing_math_by_type ,\n",
    "        '% passing Reading': average_percent_passing_reading_by_type,\n",
    "        '%overall passing Rate': overall\n",
    "\n",
    "})\n",
    "\n",
    "# Display results\n",
    "type_summary"
   ]
  },
  {
   "cell_type": "code",
   "execution_count": null,
   "metadata": {},
   "outputs": [],
   "source": []
  }
 ],
 "metadata": {
  "anaconda-cloud": {},
  "kernel_info": {
   "name": "python3"
  },
  "kernelspec": {
   "display_name": "PythonData",
   "language": "python",
   "name": "pythondata"
  },
  "language_info": {
   "codemirror_mode": {
    "name": "ipython",
    "version": 3
   },
   "file_extension": ".py",
   "mimetype": "text/x-python",
   "name": "python",
   "nbconvert_exporter": "python",
   "pygments_lexer": "ipython3",
   "version": "3.7.7"
  },
  "latex_envs": {
   "LaTeX_envs_menu_present": true,
   "autoclose": false,
   "autocomplete": true,
   "bibliofile": "biblio.bib",
   "cite_by": "apalike",
   "current_citInitial": 1,
   "eqLabelWithNumbers": true,
   "eqNumInitial": 1,
   "hotkeys": {
    "equation": "Ctrl-E",
    "itemize": "Ctrl-I"
   },
   "labels_anchors": false,
   "latex_user_defs": false,
   "report_style_numbering": false,
   "user_envs_cfg": false
  },
  "nteract": {
   "version": "0.8.4"
  },
  "vscode": {
   "interpreter": {
    "hash": "5384d77d82de63fd599f73e77f9ec786e7719288bf80a29ec0288c670ac3cf32"
   }
  }
 },
 "nbformat": 4,
 "nbformat_minor": 4
}
